{
 "cells": [
  {
   "cell_type": "code",
   "execution_count": 12,
   "metadata": {},
   "outputs": [
    {
     "name": "stdout",
     "output_type": "stream",
     "text": [
      "                            ride_id                         driver_id  \\\n",
      "0  006d61cf7446e682f7bc50b0f8a5bea5  002be0ffdc997bd5c50703158b7c2491   \n",
      "1  01b522c5c3a756fbdb12e95e87507eda  002be0ffdc997bd5c50703158b7c2491   \n",
      "2  029227c4c2971ce69ff2274dc798ef43  002be0ffdc997bd5c50703158b7c2491   \n",
      "3  034e861343a63ac3c18a9ceb1ce0ac69  002be0ffdc997bd5c50703158b7c2491   \n",
      "4  034f2e614a2f9fc7f1c2f77647d1b981  002be0ffdc997bd5c50703158b7c2491   \n",
      "\n",
      "   ride_duration  ride_distance  ride_prime_time  accept_delay  completed_flag  \n",
      "0            327           1811               50          25.0               1  \n",
      "1            809           3362                0           3.0               1  \n",
      "2            572           3282                0           8.0               1  \n",
      "3           3338          65283               25           4.0               1  \n",
      "4            823           4115              100           2.0               1  \n"
     ]
    }
   ],
   "source": [
    "'''Load and Merge the Dataset'''\n",
    "\n",
    "import pandas as pd \n",
    "\n",
    "# Load data\n",
    "\n",
    "# driver_id, onboarding_date\n",
    "df_drivers = pd.read_csv('/Users/samirgupte/Library/CloudStorage/OneDrive-Personal/Documents/RPI/JuniorSpring/AI and Blockchain/AI_n_B_Project_Repo/S25_RideChain/Rating_Model/Data/driver_ids.csv')\n",
    "# ride_id, driver_id, duration, distance, prime_time, etc.\n",
    "df_rides = pd.read_csv('/Users/samirgupte/Library/CloudStorage/OneDrive-Personal/Documents/RPI/JuniorSpring/AI and Blockchain/AI_n_B_Project_Repo/S25_RideChain/Rating_Model/Data/ride_ids.csv')\n",
    "# ride_id, timestamp, event (requested, accepted, completed)\n",
    "df_timestamps = pd.read_csv('/Users/samirgupte/Library/CloudStorage/OneDrive-Personal/Documents/RPI/JuniorSpring/AI and Blockchain/AI_n_B_Project_Repo/S25_RideChain/Rating_Model/Data/ride_timestamps.csv')\n",
    "\n",
    "\n",
    "# Pivot the timestamp events to wide format: one row per ride_id with columns for each event\n",
    "df_events = df_timestamps.pivot(index='ride_id', columns='event', values='timestamp').reset_index()\n",
    "\n",
    "# Convert timestamp columns to datetime\n",
    "for col in ['requested', 'accepted', 'completed']:\n",
    "    if col in df_events.columns:\n",
    "        df_events[col] = pd.to_datetime(df_events[col])\n",
    "\n",
    "# Joining data on ride_id to obtain per-ride data\n",
    "\n",
    "# Join ride data with event timestamps\n",
    "df_combined = pd.merge(df_rides, df_events, on='ride_id', how='inner')\n",
    "\n",
    "# Join driver info (e.g., onboarding date)\n",
    "df_combined = pd.merge(df_combined, df_drivers, on='driver_id', how='left')\n",
    "\n",
    "# Compute accept delay (seconds)\n",
    "df_combined['accept_delay'] = (pd.to_datetime(df_combined['accepted_at']) - pd.to_datetime(df_combined['requested_at'])).dt.total_seconds()\n",
    "\n",
    "# Compute completion flag: 1 if the ride was dropped off\n",
    "df_combined['completed_flag'] = df_combined['dropped_off_at'].notnull().astype(int)\n",
    "\n",
    "# Preview\n",
    "print(df_combined[['ride_id', 'driver_id', 'ride_duration', 'ride_distance', 'ride_prime_time', 'accept_delay', 'completed_flag']].head())\n",
    "\n"
   ]
  },
  {
   "cell_type": "markdown",
   "metadata": {},
   "source": [
    "Plan:\n",
    "\n"
   ]
  }
 ],
 "metadata": {
  "kernelspec": {
   "display_name": "base",
   "language": "python",
   "name": "python3"
  },
  "language_info": {
   "codemirror_mode": {
    "name": "ipython",
    "version": 3
   },
   "file_extension": ".py",
   "mimetype": "text/x-python",
   "name": "python",
   "nbconvert_exporter": "python",
   "pygments_lexer": "ipython3",
   "version": "3.9.12"
  }
 },
 "nbformat": 4,
 "nbformat_minor": 2
}
